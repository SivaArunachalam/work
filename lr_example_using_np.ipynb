{
  "nbformat": 4,
  "nbformat_minor": 0,
  "metadata": {
    "colab": {
      "provenance": [],
      "authorship_tag": "ABX9TyMohqu8LVHW6S0y+H1a+aC8",
      "include_colab_link": true
    },
    "kernelspec": {
      "name": "python3",
      "display_name": "Python 3"
    },
    "language_info": {
      "name": "python"
    }
  },
  "cells": [
    {
      "cell_type": "markdown",
      "metadata": {
        "id": "view-in-github",
        "colab_type": "text"
      },
      "source": [
        "<a href=\"https://colab.research.google.com/github/SivaArunachalam/work/blob/main/lr_example_using_np.ipynb\" target=\"_parent\"><img src=\"https://colab.research.google.com/assets/colab-badge.svg\" alt=\"Open In Colab\"/></a>"
      ]
    },
    {
      "cell_type": "code",
      "execution_count": 62,
      "metadata": {
        "id": "vm0x4KhJrow1"
      },
      "outputs": [],
      "source": [
        "import numpy as np\n",
        "np.random.seed(42)"
      ]
    },
    {
      "cell_type": "code",
      "source": [
        "# 100 data points around a line\n",
        "# with intercept = b\n",
        "# slope = m\n",
        " \n",
        "b = 1\n",
        "m = 2\n",
        "X = np.random.rand(100, 1)\n",
        "E = 0.1 * np.random.rand(100, 1)\n",
        "Y = m * X + b + E "
      ],
      "metadata": {
        "id": "tgrTfY7zruiV"
      },
      "execution_count": 63,
      "outputs": []
    },
    {
      "cell_type": "code",
      "source": [
        "idx = np.arange(100)\n",
        "np.random.shuffle(idx)\n",
        "train_idx = idx[:80]\n",
        "valid_idx = idx[80:]"
      ],
      "metadata": {
        "id": "EIQFT6ubtzJU"
      },
      "execution_count": 64,
      "outputs": []
    },
    {
      "cell_type": "code",
      "source": [
        "X_train, Y_train = X[train_idx], Y[train_idx]\n",
        "X_valid, Y_valid = X[valid_idx], Y[valid_idx]"
      ],
      "metadata": {
        "id": "qQ9lhSL1ski6"
      },
      "execution_count": 65,
      "outputs": []
    },
    {
      "cell_type": "code",
      "source": [
        "# init\n",
        "m0 = np.random.randn(1)\n",
        "b0 = np.random.randn(1)\n",
        "print(m0, b0)\n",
        "\n",
        "Y0 = m0 * X_train + b0\n",
        "\n",
        "Error0 = np.mean((Y0 - Y_train) ** 2) \n",
        "print(Error0)"
      ],
      "metadata": {
        "colab": {
          "base_uri": "https://localhost:8080/"
        },
        "id": "5_r-GIoRsk_Z",
        "outputId": "87140893-0cfb-40e0-9459-a61deb50b8bd"
      },
      "execution_count": 46,
      "outputs": [
        {
          "output_type": "stream",
          "name": "stdout",
          "text": [
            "[-1.80762343] [-0.5151779]\n",
            "12.681998384797279\n"
          ]
        }
      ]
    },
    {
      "cell_type": "code",
      "source": [
        "# gradient\n",
        "# db = 2 * np.mean(Y0 - Y)\n",
        "# dm = 2 * np.mean((Y0 - Y) X)\n",
        "# iter 1\n",
        "lr = 0.01\n",
        "m1 = m0 - lr * 2 * np.mean((Y0 - Y_train) * X_train)\n",
        "b1 = b0 - lr * 2 * np.mean(Y0 - Y_train)\n",
        "print(m1, b1)\n",
        "Y1 = b1 + m1 * X_train\n",
        "loss = np.mean((Y1 - Y_train) ** 2)\n",
        "print(loss)"
      ],
      "metadata": {
        "colab": {
          "base_uri": "https://localhost:8080/"
        },
        "id": "ftYgrmuftWnI",
        "outputId": "bbfec836-aace-4462-de0b-5270331a96d0"
      },
      "execution_count": 47,
      "outputs": [
        {
          "output_type": "stream",
          "name": "stdout",
          "text": [
            "[-1.76877019] [-0.44761142]\n",
            "12.082059372855111\n"
          ]
        }
      ]
    },
    {
      "cell_type": "code",
      "source": [
        "# iter 2\n",
        "m2 = m1 - lr * 2 * np.mean((Y1 - Y_train) * X_train)\n",
        "b2 = b1 - lr * 2 * np.mean(Y1 - Y_train)\n",
        "print(m2, b2)\n",
        "Y2 = b2 + m2 * X_train\n",
        "loss = np.mean((Y2 - Y_train) ** 2)\n",
        "print(loss)"
      ],
      "metadata": {
        "colab": {
          "base_uri": "https://localhost:8080/"
        },
        "id": "Lc7RW9ijvOcK",
        "outputId": "c1dc81ce-88d3-4e34-bc69-2cb023a364ae"
      },
      "execution_count": 49,
      "outputs": [
        {
          "output_type": "stream",
          "name": "stdout",
          "text": [
            "[-1.73080512] [-0.38176645]\n",
            "11.511539390720008\n"
          ]
        }
      ]
    },
    {
      "cell_type": "code",
      "source": [
        "lr = 0.1\n",
        "b = np.random.randn(1)\n",
        "m = np.random.randn(1)\n",
        "Y_hat = b + m * X_train\n",
        "error = Y_hat - Y_train\n",
        "loss = np.mean(error ** 2)\n",
        "print(f\"initital loss: {loss}\")\n",
        "\n",
        "for i in range(1000):\n",
        "  b -= 2 * lr * np.mean(error)\n",
        "  m -= 2 * lr * np.mean(error * X_train)\n",
        "  Y_hat = b + m * X_train\n",
        "  error = Y_hat - Y_train\n",
        "  loss = np.mean(error ** 2)\n",
        "  if not i % 100:\n",
        "    print(f\"(b, m): {b}, {m}\")\n",
        "    print(f\"{i:04d} - {loss}\")\n"
      ],
      "metadata": {
        "colab": {
          "base_uri": "https://localhost:8080/"
        },
        "id": "yfVs0sAXxrzQ",
        "outputId": "0440ff11-cd27-40bd-f097-7af717dbd68c"
      },
      "execution_count": 66,
      "outputs": [
        {
          "output_type": "stream",
          "name": "stdout",
          "text": [
            "initital loss: 0.40665351379455866\n",
            "(b, m): [0.44900046], [3.7898851]\n",
            "0000 - 0.3329816283588734\n",
            "(b, m): [0.84624525], [2.40726124]\n",
            "0100 - 0.015591674817648846\n",
            "(b, m): [1.00222729], [2.09690365]\n",
            "0200 - 0.0017052688208163288\n",
            "(b, m): [1.04055085], [2.02065124]\n",
            "0300 - 0.0008670213698393547\n",
            "(b, m): [1.04996664], [2.00191663]\n",
            "0400 - 0.0008164208912684646\n",
            "(b, m): [1.05228003], [1.99731368]\n",
            "0500 - 0.0008133664132278574\n",
            "(b, m): [1.05284841], [1.99618277]\n",
            "0600 - 0.0008131820308590724\n",
            "(b, m): [1.05298805], [1.99590492]\n",
            "0700 - 0.000813170900689705\n",
            "(b, m): [1.05302236], [1.99583665]\n",
            "0800 - 0.0008131702288213964\n",
            "(b, m): [1.05303079], [1.99581988]\n",
            "0900 - 0.0008131701882643303\n"
          ]
        }
      ]
    },
    {
      "cell_type": "code",
      "source": [
        "from sklearn.linear_model import LinearRegression"
      ],
      "metadata": {
        "id": "3CJFwBQS3Dg0"
      },
      "execution_count": 67,
      "outputs": []
    },
    {
      "cell_type": "code",
      "source": [
        "model = LinearRegression()\n",
        "model.fit(X_train, Y_train)\n",
        "print(model.intercept_, model.coef_)"
      ],
      "metadata": {
        "colab": {
          "base_uri": "https://localhost:8080/"
        },
        "id": "2DXd1iIZ45Al",
        "outputId": "2e644097-19dd-4a72-cd43-e0abf3d3f563"
      },
      "execution_count": 68,
      "outputs": [
        {
          "output_type": "stream",
          "name": "stdout",
          "text": [
            "[1.05303354] [[1.99581441]]\n"
          ]
        }
      ]
    },
    {
      "cell_type": "code",
      "source": [],
      "metadata": {
        "id": "NSqtUcYY5W5R"
      },
      "execution_count": null,
      "outputs": []
    }
  ]
}