{
  "nbformat": 4,
  "nbformat_minor": 0,
  "metadata": {
    "colab": {
      "provenance": [],
      "authorship_tag": "ABX9TyPYQMykZSkPTplFYEEGRVh9",
      "include_colab_link": true
    },
    "kernelspec": {
      "name": "python3",
      "display_name": "Python 3"
    },
    "language_info": {
      "name": "python"
    }
  },
  "cells": [
    {
      "cell_type": "markdown",
      "metadata": {
        "id": "view-in-github",
        "colab_type": "text"
      },
      "source": [
        "<a href=\"https://colab.research.google.com/github/SivaArunachalam/work/blob/main/np.ipynb\" target=\"_parent\"><img src=\"https://colab.research.google.com/assets/colab-badge.svg\" alt=\"Open In Colab\"/></a>"
      ]
    },
    {
      "cell_type": "code",
      "execution_count": 1,
      "metadata": {
        "id": "Gv7YIW5ZjcBv"
      },
      "outputs": [],
      "source": [
        "import numpy as np\n",
        "import matplotlib.pyplot as plt "
      ]
    },
    {
      "cell_type": "code",
      "source": [
        "plt.imshow(np.random.randn(5, 5))"
      ],
      "metadata": {
        "colab": {
          "base_uri": "https://localhost:8080/",
          "height": 282
        },
        "id": "PKym-YAUjr9n",
        "outputId": "e8a9c569-7463-4d25-f0f7-51cab105ccfb"
      },
      "execution_count": 2,
      "outputs": [
        {
          "output_type": "execute_result",
          "data": {
            "text/plain": [
              "<matplotlib.image.AxesImage at 0x7f7d2c665430>"
            ]
          },
          "metadata": {},
          "execution_count": 2
        },
        {
          "output_type": "display_data",
          "data": {
            "text/plain": [
              "<Figure size 432x288 with 1 Axes>"
            ],
            "image/png": "[encoded data removed]"
          },
          "metadata": {
            "needs_background": "light"
          }
        }
      ]
    },
    {
      "cell_type": "code",
      "source": [
        "a = np.random.randn(5, 10)"
      ],
      "metadata": {
        "id": "FLLBPiYWjxZd"
      },
      "execution_count": 3,
      "outputs": []
    },
    {
      "cell_type": "code",
      "source": [
        "a"
      ],
      "metadata": {
        "colab": {
          "base_uri": "https://localhost:8080/"
        },
        "id": "xlfj6_aaneBU",
        "outputId": "a7b67ee1-a1e8-4364-f000-b684f7009be9"
      },
      "execution_count": 4,
      "outputs": [
        {
          "output_type": "execute_result",
          "data": {
            "text/plain": [
              "array([[ 0.83905084, -0.78131824, -0.54489484, -2.21580074,  0.54826147,\n",
              "        -1.19323939,  0.42288071, -1.77310869,  0.81254512,  0.06580619],\n",
              "       [ 2.04913949, -1.71121026, -0.85299905, -0.33612642,  2.0457169 ,\n",
              "         0.24400266,  0.74879051,  0.43536276, -0.53758519, -0.62805084],\n",
              "       [ 0.52609752,  0.17764699, -1.1627122 ,  1.59027939,  0.8249326 ,\n",
              "         1.74603289, -2.41286387, -0.10960569,  0.6473319 , -1.23423013],\n",
              "       [-0.06043571,  0.27733709,  0.67557611, -0.76370526, -0.43428768,\n",
              "         2.32283018, -0.42717667, -1.00869617,  1.34135563, -0.19675689],\n",
              "       [ 0.69276596, -2.55101241, -1.06349225, -0.43633469, -1.7031924 ,\n",
              "         0.90109043, -0.13661503, -1.75369281, -0.28167997,  0.91695844]])"
            ]
          },
          "metadata": {},
          "execution_count": 4
        }
      ]
    },
    {
      "cell_type": "code",
      "source": [
        "a.mean(axis=1)"
      ],
      "metadata": {
        "colab": {
          "base_uri": "https://localhost:8080/"
        },
        "id": "aNw3fhZDj5K9",
        "outputId": "dc720101-ac5a-469f-efdd-b2650b504de8"
      },
      "execution_count": 5,
      "outputs": [
        {
          "output_type": "execute_result",
          "data": {
            "text/plain": [
              "array([-0.38198176,  0.14570405,  0.05929094,  0.17260406, -0.54152047])"
            ]
          },
          "metadata": {},
          "execution_count": 5
        }
      ]
    },
    {
      "cell_type": "code",
      "source": [
        "a.mean(axis=0)"
      ],
      "metadata": {
        "colab": {
          "base_uri": "https://localhost:8080/"
        },
        "id": "wEjkYnWCnZ2U",
        "outputId": "871ec695-3d2e-47a4-8bff-db233e03e894"
      },
      "execution_count": 7,
      "outputs": [
        {
          "output_type": "execute_result",
          "data": {
            "text/plain": [
              "array([ 0.80932362, -0.91771136, -0.58970445, -0.43233754,  0.25628618,\n",
              "        0.80414335, -0.36099687, -0.84194812,  0.3963935 , -0.21525464])"
            ]
          },
          "metadata": {},
          "execution_count": 7
        }
      ]
    },
    {
      "cell_type": "code",
      "source": [
        "?np.random.randn"
      ],
      "metadata": {
        "id": "EwwLd9lpmYEh"
      },
      "execution_count": 34,
      "outputs": []
    },
    {
      "cell_type": "code",
      "source": [
        "a.std()"
      ],
      "metadata": {
        "colab": {
          "base_uri": "https://localhost:8080/"
        },
        "id": "y6Q7Ls0zmCgd",
        "outputId": "e50e1b80-91d8-492a-cbcb-cd0d59ebfeab"
      },
      "execution_count": 8,
      "outputs": [
        {
          "output_type": "execute_result",
          "data": {
            "text/plain": [
              "1.1554722620222337"
            ]
          },
          "metadata": {},
          "execution_count": 8
        }
      ]
    },
    {
      "cell_type": "code",
      "source": [
        "np.random.rand(5)"
      ],
      "metadata": {
        "colab": {
          "base_uri": "https://localhost:8080/"
        },
        "id": "ZWJm7w20m9Mm",
        "outputId": "fd6224b2-95c2-41eb-efab-420188ec27c9"
      },
      "execution_count": 9,
      "outputs": [
        {
          "output_type": "execute_result",
          "data": {
            "text/plain": [
              "array([0.17794023, 0.04376227, 0.29018399, 0.6457928 , 0.67392592])"
            ]
          },
          "metadata": {},
          "execution_count": 9
        }
      ]
    },
    {
      "cell_type": "code",
      "source": [
        "np.random.rand(5,)"
      ],
      "metadata": {
        "colab": {
          "base_uri": "https://localhost:8080/"
        },
        "id": "8eholt8fpdyi",
        "outputId": "0802b11c-f8cb-4b81-ec9c-d614948311cb"
      },
      "execution_count": 10,
      "outputs": [
        {
          "output_type": "execute_result",
          "data": {
            "text/plain": [
              "array([0.44236453, 0.75717269, 0.84429959, 0.26740494, 0.33813248])"
            ]
          },
          "metadata": {},
          "execution_count": 10
        }
      ]
    },
    {
      "cell_type": "code",
      "source": [
        "a = np.random.randn(2, 3)"
      ],
      "metadata": {
        "id": "zD5KCJo7phUJ"
      },
      "execution_count": 11,
      "outputs": []
    },
    {
      "cell_type": "code",
      "source": [
        "a"
      ],
      "metadata": {
        "colab": {
          "base_uri": "https://localhost:8080/"
        },
        "id": "c_tcYFRXrpI3",
        "outputId": "ea732229-393a-48ec-d86f-e4e55c31978d"
      },
      "execution_count": 12,
      "outputs": [
        {
          "output_type": "execute_result",
          "data": {
            "text/plain": [
              "array([[-0.60079513,  1.45139519,  0.7128829 ],\n",
              "       [-0.86236813,  1.45333071, -0.23099444]])"
            ]
          },
          "metadata": {},
          "execution_count": 12
        }
      ]
    },
    {
      "cell_type": "code",
      "source": [
        "a[0][-1]"
      ],
      "metadata": {
        "colab": {
          "base_uri": "https://localhost:8080/"
        },
        "id": "8NDmYWVBn3FV",
        "outputId": "61e90e05-89e0-4315-f714-5d61d335f82b"
      },
      "execution_count": 14,
      "outputs": [
        {
          "output_type": "execute_result",
          "data": {
            "text/plain": [
              "0.7128828975553518"
            ]
          },
          "metadata": {},
          "execution_count": 14
        }
      ]
    },
    {
      "cell_type": "code",
      "source": [
        "a[-1, -1]"
      ],
      "metadata": {
        "colab": {
          "base_uri": "https://localhost:8080/"
        },
        "id": "TFJX1SHDn-tg",
        "outputId": "87e6f8b7-a2a1-4c10-8f2f-cdece430d875"
      },
      "execution_count": 15,
      "outputs": [
        {
          "output_type": "execute_result",
          "data": {
            "text/plain": [
              "-0.23099443693832733"
            ]
          },
          "metadata": {},
          "execution_count": 15
        }
      ]
    },
    {
      "cell_type": "code",
      "source": [
        "a[-1][-2] = 800"
      ],
      "metadata": {
        "id": "BwEnInWKoEr4"
      },
      "execution_count": 16,
      "outputs": []
    },
    {
      "cell_type": "code",
      "source": [
        "a"
      ],
      "metadata": {
        "colab": {
          "base_uri": "https://localhost:8080/"
        },
        "id": "y-OWgZoRoItu",
        "outputId": "c17d4c92-b7dd-48d1-e495-e83896796fa8"
      },
      "execution_count": 17,
      "outputs": [
        {
          "output_type": "execute_result",
          "data": {
            "text/plain": [
              "array([[-6.00795125e-01,  1.45139519e+00,  7.12882898e-01],\n",
              "       [-8.62368129e-01,  8.00000000e+02, -2.30994437e-01]])"
            ]
          },
          "metadata": {},
          "execution_count": 17
        }
      ]
    },
    {
      "cell_type": "markdown",
      "source": [],
      "metadata": {
        "id": "o1LRHLlIn-d2"
      }
    },
    {
      "cell_type": "code",
      "source": [
        "a[0][1:]"
      ],
      "metadata": {
        "colab": {
          "base_uri": "https://localhost:8080/"
        },
        "id": "BkOO6cpHrvnF",
        "outputId": "8e3d8db6-ae97-47af-9e5f-d3006f4ef92e"
      },
      "execution_count": 18,
      "outputs": [
        {
          "output_type": "execute_result",
          "data": {
            "text/plain": [
              "array([1.45139519, 0.7128829 ])"
            ]
          },
          "metadata": {},
          "execution_count": 18
        }
      ]
    },
    {
      "cell_type": "code",
      "source": [
        "a = np.random.randn(2, 3, 5)\n",
        "a"
      ],
      "metadata": {
        "colab": {
          "base_uri": "https://localhost:8080/"
        },
        "id": "zz6q-kOqrxNc",
        "outputId": "8a8fd531-1237-4d36-c89c-867641f1c988"
      },
      "execution_count": 24,
      "outputs": [
        {
          "output_type": "execute_result",
          "data": {
            "text/plain": [
              "array([[[ 0.36586717, -0.46505258, -0.56607589, -0.46524492,\n",
              "         -1.67368074],\n",
              "        [ 0.24074419, -0.16186347,  0.59640989,  0.23621246,\n",
              "          0.9213175 ],\n",
              "        [ 0.02022579, -1.26388501, -1.10620836,  0.08670998,\n",
              "         -0.78111248]],\n",
              "\n",
              "       [[-1.02033542, -0.9075935 , -1.12453121,  0.07750409,\n",
              "          0.94950913],\n",
              "        [ 1.12711348, -0.83817453,  0.76851641, -1.20831018,\n",
              "          0.75345748],\n",
              "        [-0.07353302,  1.42696908, -0.7446017 , -0.24667435,\n",
              "          0.46650235]]])"
            ]
          },
          "metadata": {},
          "execution_count": 24
        }
      ]
    },
    {
      "cell_type": "code",
      "source": [
        "np.zeros([2, 2])"
      ],
      "metadata": {
        "colab": {
          "base_uri": "https://localhost:8080/"
        },
        "id": "x8Hp02J6r7-W",
        "outputId": "ca5fa8af-03eb-4baf-af78-9ba774cee42d"
      },
      "execution_count": 25,
      "outputs": [
        {
          "output_type": "execute_result",
          "data": {
            "text/plain": [
              "array([[0., 0.],\n",
              "       [0., 0.]])"
            ]
          },
          "metadata": {},
          "execution_count": 25
        }
      ]
    },
    {
      "cell_type": "code",
      "source": [
        "np.empty([2, 2])"
      ],
      "metadata": {
        "colab": {
          "base_uri": "https://localhost:8080/"
        },
        "id": "cAhGecwUsOMt",
        "outputId": "eb6f0987-bec0-4255-835f-0db474356b0b"
      },
      "execution_count": 26,
      "outputs": [
        {
          "output_type": "execute_result",
          "data": {
            "text/plain": [
              "array([[0., 0.],\n",
              "       [0., 0.]])"
            ]
          },
          "metadata": {},
          "execution_count": 26
        }
      ]
    },
    {
      "cell_type": "code",
      "source": [
        "np.eye(3)"
      ],
      "metadata": {
        "colab": {
          "base_uri": "https://localhost:8080/"
        },
        "id": "z3WLEjI0sg2e",
        "outputId": "d9853cac-07da-463d-cd37-7635e0cd7585"
      },
      "execution_count": 27,
      "outputs": [
        {
          "output_type": "execute_result",
          "data": {
            "text/plain": [
              "array([[1., 0., 0.],\n",
              "       [0., 1., 0.],\n",
              "       [0., 0., 1.]])"
            ]
          },
          "metadata": {},
          "execution_count": 27
        }
      ]
    },
    {
      "cell_type": "code",
      "source": [
        "np.full([3, 4], 2)"
      ],
      "metadata": {
        "colab": {
          "base_uri": "https://localhost:8080/"
        },
        "id": "EJO-6J3csnsE",
        "outputId": "e9bcf144-9130-4413-fdca-65e7b1ad9fa8"
      },
      "execution_count": 28,
      "outputs": [
        {
          "output_type": "execute_result",
          "data": {
            "text/plain": [
              "array([[2, 2, 2, 2],\n",
              "       [2, 2, 2, 2],\n",
              "       [2, 2, 2, 2]])"
            ]
          },
          "metadata": {},
          "execution_count": 28
        }
      ]
    },
    {
      "cell_type": "code",
      "source": [
        "np.arange(10, 250, 5)"
      ],
      "metadata": {
        "colab": {
          "base_uri": "https://localhost:8080/"
        },
        "id": "OFpUR20usuFa",
        "outputId": "0458b653-f4f2-47fb-df14-1a585b10cd90"
      },
      "execution_count": 29,
      "outputs": [
        {
          "output_type": "execute_result",
          "data": {
            "text/plain": [
              "array([ 10,  15,  20,  25,  30,  35,  40,  45,  50,  55,  60,  65,  70,\n",
              "        75,  80,  85,  90,  95, 100, 105, 110, 115, 120, 125, 130, 135,\n",
              "       140, 145, 150, 155, 160, 165, 170, 175, 180, 185, 190, 195, 200,\n",
              "       205, 210, 215, 220, 225, 230, 235, 240, 245])"
            ]
          },
          "metadata": {},
          "execution_count": 29
        }
      ]
    },
    {
      "cell_type": "code",
      "source": [
        "np.arange(1, 2, 0.1)"
      ],
      "metadata": {
        "colab": {
          "base_uri": "https://localhost:8080/"
        },
        "id": "SH7JuQ6vo-0O",
        "outputId": "8e95dd9a-eef0-4a4b-a560-f48bd0a8c115"
      },
      "execution_count": 32,
      "outputs": [
        {
          "output_type": "execute_result",
          "data": {
            "text/plain": [
              "array([1. , 1.1, 1.2, 1.3, 1.4, 1.5, 1.6, 1.7, 1.8, 1.9])"
            ]
          },
          "metadata": {},
          "execution_count": 32
        }
      ]
    },
    {
      "cell_type": "code",
      "source": [
        "np.arange(0, 10, 2)"
      ],
      "metadata": {
        "colab": {
          "base_uri": "https://localhost:8080/"
        },
        "id": "BF1tD95ds4Pb",
        "outputId": "6ec7b8a2-c4e7-44b5-b6a7-f75885e1b714"
      },
      "execution_count": 33,
      "outputs": [
        {
          "output_type": "execute_result",
          "data": {
            "text/plain": [
              "array([0, 2, 4, 6, 8])"
            ]
          },
          "metadata": {},
          "execution_count": 33
        }
      ]
    },
    {
      "cell_type": "code",
      "source": [
        "np.linspace(0, 1, 11)"
      ],
      "metadata": {
        "colab": {
          "base_uri": "https://localhost:8080/"
        },
        "id": "Kgwoz93atDqZ",
        "outputId": "afbede44-53b7-4eb7-9aaf-edeb57dbc510"
      },
      "execution_count": 34,
      "outputs": [
        {
          "output_type": "execute_result",
          "data": {
            "text/plain": [
              "array([0. , 0.1, 0.2, 0.3, 0.4, 0.5, 0.6, 0.7, 0.8, 0.9, 1. ])"
            ]
          },
          "metadata": {},
          "execution_count": 34
        }
      ]
    },
    {
      "cell_type": "code",
      "source": [
        "a = np.random.rand(2, 3, 5)"
      ],
      "metadata": {
        "id": "6971xl-mtRHE"
      },
      "execution_count": 38,
      "outputs": []
    },
    {
      "cell_type": "code",
      "source": [
        "len(a)"
      ],
      "metadata": {
        "colab": {
          "base_uri": "https://localhost:8080/"
        },
        "id": "LF2dT749t0w5",
        "outputId": "61a8e12f-2a19-4869-c767-84071852fada"
      },
      "execution_count": 39,
      "outputs": [
        {
          "output_type": "execute_result",
          "data": {
            "text/plain": [
              "2"
            ]
          },
          "metadata": {},
          "execution_count": 39
        }
      ]
    },
    {
      "cell_type": "code",
      "source": [
        "a.shape"
      ],
      "metadata": {
        "colab": {
          "base_uri": "https://localhost:8080/"
        },
        "id": "zCy4G9Fct3wz",
        "outputId": "720179a2-1151-46ce-e986-e68ce830d077"
      },
      "execution_count": 40,
      "outputs": [
        {
          "output_type": "execute_result",
          "data": {
            "text/plain": [
              "(2, 3, 5)"
            ]
          },
          "metadata": {},
          "execution_count": 40
        }
      ]
    },
    {
      "cell_type": "code",
      "source": [
        "a.size"
      ],
      "metadata": {
        "colab": {
          "base_uri": "https://localhost:8080/"
        },
        "id": "uHkkw1gTt5Kk",
        "outputId": "e4659c03-1ede-4cee-e13f-cfd2b12d97b6"
      },
      "execution_count": 41,
      "outputs": [
        {
          "output_type": "execute_result",
          "data": {
            "text/plain": [
              "30"
            ]
          },
          "metadata": {},
          "execution_count": 41
        }
      ]
    },
    {
      "cell_type": "code",
      "source": [
        "a.ndim"
      ],
      "metadata": {
        "colab": {
          "base_uri": "https://localhost:8080/"
        },
        "id": "Kp9d68M5uB3K",
        "outputId": "79872ab3-0290-40c3-cb83-aed5c39f82b0"
      },
      "execution_count": 42,
      "outputs": [
        {
          "output_type": "execute_result",
          "data": {
            "text/plain": [
              "3"
            ]
          },
          "metadata": {},
          "execution_count": 42
        }
      ]
    },
    {
      "cell_type": "code",
      "source": [
        "a.dtype"
      ],
      "metadata": {
        "colab": {
          "base_uri": "https://localhost:8080/"
        },
        "id": "U8TKmv1fuDY5",
        "outputId": "97f308d5-2645-433b-949a-d5df6d8b71f5"
      },
      "execution_count": 43,
      "outputs": [
        {
          "output_type": "execute_result",
          "data": {
            "text/plain": [
              "dtype('float64')"
            ]
          },
          "metadata": {},
          "execution_count": 43
        }
      ]
    },
    {
      "cell_type": "code",
      "source": [
        "a.dtype.name"
      ],
      "metadata": {
        "colab": {
          "base_uri": "https://localhost:8080/",
          "height": 37
        },
        "id": "_5AGDDeEuHzi",
        "outputId": "05c8fc16-8705-41e3-eb8a-f986db46364b"
      },
      "execution_count": 44,
      "outputs": [
        {
          "output_type": "execute_result",
          "data": {
            "text/plain": [
              "'float64'"
            ],
            "application/vnd.google.colaboratory.intrinsic+json": {
              "type": "string"
            }
          },
          "metadata": {},
          "execution_count": 44
        }
      ]
    },
    {
      "cell_type": "code",
      "source": [
        "a"
      ],
      "metadata": {
        "colab": {
          "base_uri": "https://localhost:8080/"
        },
        "id": "ZCZwr0e2uJfM",
        "outputId": "dab569a7-cb9d-418d-ea6d-4dbf0104c03d"
      },
      "execution_count": 45,
      "outputs": [
        {
          "output_type": "execute_result",
          "data": {
            "text/plain": [
              "array([[[0.04130191, 0.67757521, 0.7178478 , 0.6008614 , 0.18120656],\n",
              "        [0.94490295, 0.02815354, 0.28534902, 0.73425759, 0.02777819],\n",
              "        [0.40257731, 0.27718448, 0.06272395, 0.84934979, 0.31368871]],\n",
              "\n",
              "       [[0.03989115, 0.87028024, 0.08943432, 0.84705185, 0.91375722],\n",
              "        [0.21879887, 0.74651366, 0.89934954, 0.83990558, 0.45584488],\n",
              "        [0.09665944, 0.82484213, 0.06319932, 0.31109945, 0.6846754 ]]])"
            ]
          },
          "metadata": {},
          "execution_count": 45
        }
      ]
    },
    {
      "cell_type": "code",
      "source": [
        "a.astype(int)"
      ],
      "metadata": {
        "colab": {
          "base_uri": "https://localhost:8080/"
        },
        "id": "XAXJ6faGuPMW",
        "outputId": "2ec659ea-481f-4641-ae4d-e5be5f732f1e"
      },
      "execution_count": 46,
      "outputs": [
        {
          "output_type": "execute_result",
          "data": {
            "text/plain": [
              "array([[[0, 0, 0, 0, 0],\n",
              "        [0, 0, 0, 0, 0],\n",
              "        [0, 0, 0, 0, 0]],\n",
              "\n",
              "       [[0, 0, 0, 0, 0],\n",
              "        [0, 0, 0, 0, 0],\n",
              "        [0, 0, 0, 0, 0]]])"
            ]
          },
          "metadata": {},
          "execution_count": 46
        }
      ]
    },
    {
      "cell_type": "code",
      "source": [
        "a"
      ],
      "metadata": {
        "colab": {
          "base_uri": "https://localhost:8080/"
        },
        "id": "4mAOZdqOuWaL",
        "outputId": "a040b4a9-7bd2-4116-9c67-c8441fece871"
      },
      "execution_count": 47,
      "outputs": [
        {
          "output_type": "execute_result",
          "data": {
            "text/plain": [
              "array([[[0.04130191, 0.67757521, 0.7178478 , 0.6008614 , 0.18120656],\n",
              "        [0.94490295, 0.02815354, 0.28534902, 0.73425759, 0.02777819],\n",
              "        [0.40257731, 0.27718448, 0.06272395, 0.84934979, 0.31368871]],\n",
              "\n",
              "       [[0.03989115, 0.87028024, 0.08943432, 0.84705185, 0.91375722],\n",
              "        [0.21879887, 0.74651366, 0.89934954, 0.83990558, 0.45584488],\n",
              "        [0.09665944, 0.82484213, 0.06319932, 0.31109945, 0.6846754 ]]])"
            ]
          },
          "metadata": {},
          "execution_count": 47
        }
      ]
    },
    {
      "cell_type": "code",
      "source": [
        "a.shape"
      ],
      "metadata": {
        "colab": {
          "base_uri": "https://localhost:8080/"
        },
        "id": "Z5Tn9ox3vhoU",
        "outputId": "df404880-6f44-4bc5-9b14-2f4f233616c9"
      },
      "execution_count": 48,
      "outputs": [
        {
          "output_type": "execute_result",
          "data": {
            "text/plain": [
              "(2, 3, 5)"
            ]
          },
          "metadata": {},
          "execution_count": 48
        }
      ]
    },
    {
      "cell_type": "code",
      "source": [
        "a.sum(axis=0)"
      ],
      "metadata": {
        "colab": {
          "base_uri": "https://localhost:8080/"
        },
        "id": "ySAAS8h0vlXe",
        "outputId": "6087eeb9-f9fb-44a8-902a-e1214623e8cd"
      },
      "execution_count": 49,
      "outputs": [
        {
          "output_type": "execute_result",
          "data": {
            "text/plain": [
              "array([[0.08119306, 1.54785545, 0.80728212, 1.44791325, 1.09496378],\n",
              "       [1.16370182, 0.7746672 , 1.18469856, 1.57416317, 0.48362308],\n",
              "       [0.49923675, 1.10202661, 0.12592327, 1.16044924, 0.99836412]])"
            ]
          },
          "metadata": {},
          "execution_count": 49
        }
      ]
    },
    {
      "cell_type": "code",
      "source": [
        "a = np.random.rand(3, 5)"
      ],
      "metadata": {
        "id": "YoVYXGGgvoqQ"
      },
      "execution_count": 50,
      "outputs": []
    },
    {
      "cell_type": "code",
      "source": [
        "a"
      ],
      "metadata": {
        "colab": {
          "base_uri": "https://localhost:8080/"
        },
        "id": "OsNNYCjvv6Qw",
        "outputId": "05c00c63-add6-442b-8041-25aa5ecef250"
      },
      "execution_count": 51,
      "outputs": [
        {
          "output_type": "execute_result",
          "data": {
            "text/plain": [
              "array([[0.85537866, 0.31602753, 0.60850234, 0.81382143, 0.33959845],\n",
              "       [0.25151591, 0.10687459, 0.96933759, 0.36041771, 0.72458123],\n",
              "       [0.12623429, 0.05449855, 0.30697897, 0.43148399, 0.49231482]])"
            ]
          },
          "metadata": {},
          "execution_count": 51
        }
      ]
    },
    {
      "cell_type": "code",
      "source": [
        "a.sum(axis = 0)"
      ],
      "metadata": {
        "colab": {
          "base_uri": "https://localhost:8080/"
        },
        "id": "7DeA3Ti1v7J-",
        "outputId": "0a96568e-50a2-47a7-fe51-b46fbfdea2c4"
      },
      "execution_count": 52,
      "outputs": [
        {
          "output_type": "execute_result",
          "data": {
            "text/plain": [
              "array([1.23312887, 0.47740068, 1.8848189 , 1.60572313, 1.55649449])"
            ]
          },
          "metadata": {},
          "execution_count": 52
        }
      ]
    },
    {
      "cell_type": "code",
      "source": [
        "a.mean(axis=1)"
      ],
      "metadata": {
        "colab": {
          "base_uri": "https://localhost:8080/"
        },
        "id": "gCCKAcKqv-v7",
        "outputId": "f82ab6f3-831e-4f13-831f-aee8522fde45"
      },
      "execution_count": 53,
      "outputs": [
        {
          "output_type": "execute_result",
          "data": {
            "text/plain": [
              "array([0.58666568, 0.48254541, 0.28230213])"
            ]
          },
          "metadata": {},
          "execution_count": 53
        }
      ]
    },
    {
      "cell_type": "code",
      "source": [
        "a = np.random.rand(2, 3, 5)"
      ],
      "metadata": {
        "id": "oMFBEpIewLCE"
      },
      "execution_count": 54,
      "outputs": []
    },
    {
      "cell_type": "code",
      "source": [
        "a.shape"
      ],
      "metadata": {
        "colab": {
          "base_uri": "https://localhost:8080/"
        },
        "id": "_7Xm5ogHwPeX",
        "outputId": "76fb61f2-2379-4e87-bbc2-6f33b7825564"
      },
      "execution_count": 55,
      "outputs": [
        {
          "output_type": "execute_result",
          "data": {
            "text/plain": [
              "(2, 3, 5)"
            ]
          },
          "metadata": {},
          "execution_count": 55
        }
      ]
    },
    {
      "cell_type": "code",
      "source": [
        "a"
      ],
      "metadata": {
        "colab": {
          "base_uri": "https://localhost:8080/"
        },
        "id": "9NUt0ywYwR5z",
        "outputId": "a4b60a42-9abf-4434-b8fa-4099d7e9e39e"
      },
      "execution_count": 56,
      "outputs": [
        {
          "output_type": "execute_result",
          "data": {
            "text/plain": [
              "array([[[0.24860623, 0.67437987, 0.04968385, 0.42021268, 0.49272662],\n",
              "        [0.62312205, 0.22194876, 0.6071271 , 0.20299358, 0.82748508],\n",
              "        [0.88885595, 0.10678233, 0.85898569, 0.06544354, 0.75959796]],\n",
              "\n",
              "       [[0.77776281, 0.11278362, 0.27075371, 0.09895899, 0.43531504],\n",
              "        [0.26890126, 0.68303285, 0.26601424, 0.99240972, 0.40068904],\n",
              "        [0.56644343, 0.51487766, 0.33085648, 0.95120828, 0.86110494]]])"
            ]
          },
          "metadata": {},
          "execution_count": 56
        }
      ]
    },
    {
      "cell_type": "code",
      "source": [
        "a.sum(axis=(1, 2))"
      ],
      "metadata": {
        "colab": {
          "base_uri": "https://localhost:8080/"
        },
        "id": "O7YQeU5rwSWn",
        "outputId": "8224dd8f-9676-4f56-a0ab-2e79835fb616"
      },
      "execution_count": 57,
      "outputs": [
        {
          "output_type": "execute_result",
          "data": {
            "text/plain": [
              "array([7.04795128, 7.53111206])"
            ]
          },
          "metadata": {},
          "execution_count": 57
        }
      ]
    },
    {
      "cell_type": "code",
      "source": [
        "a.sum(axis=(0, 1))"
      ],
      "metadata": {
        "colab": {
          "base_uri": "https://localhost:8080/"
        },
        "id": "-vlHGxezwhpG",
        "outputId": "3dfbbbf7-9d1b-48a4-b3e7-a87fed34fddd"
      },
      "execution_count": 58,
      "outputs": [
        {
          "output_type": "execute_result",
          "data": {
            "text/plain": [
              "array([3.37369172, 2.31380509, 2.38342108, 2.73122678, 3.77691867])"
            ]
          },
          "metadata": {},
          "execution_count": 58
        }
      ]
    },
    {
      "cell_type": "code",
      "source": [
        "a"
      ],
      "metadata": {
        "colab": {
          "base_uri": "https://localhost:8080/"
        },
        "id": "Wi6MG2c9wzRD",
        "outputId": "2fb73f54-f6fd-4a72-8dcd-a6e30ffe4848"
      },
      "execution_count": 59,
      "outputs": [
        {
          "output_type": "execute_result",
          "data": {
            "text/plain": [
              "array([[[0.24860623, 0.67437987, 0.04968385, 0.42021268, 0.49272662],\n",
              "        [0.62312205, 0.22194876, 0.6071271 , 0.20299358, 0.82748508],\n",
              "        [0.88885595, 0.10678233, 0.85898569, 0.06544354, 0.75959796]],\n",
              "\n",
              "       [[0.77776281, 0.11278362, 0.27075371, 0.09895899, 0.43531504],\n",
              "        [0.26890126, 0.68303285, 0.26601424, 0.99240972, 0.40068904],\n",
              "        [0.56644343, 0.51487766, 0.33085648, 0.95120828, 0.86110494]]])"
            ]
          },
          "metadata": {},
          "execution_count": 59
        }
      ]
    },
    {
      "cell_type": "code",
      "source": [
        "a.sort(axis=2)"
      ],
      "metadata": {
        "id": "c8Z07VKZxfwt"
      },
      "execution_count": 60,
      "outputs": []
    },
    {
      "cell_type": "code",
      "source": [
        "a"
      ],
      "metadata": {
        "colab": {
          "base_uri": "https://localhost:8080/"
        },
        "id": "h5g8xEkCxzyi",
        "outputId": "23ef5090-bfa2-426e-c143-ce2a7c71a9a0"
      },
      "execution_count": 61,
      "outputs": [
        {
          "output_type": "execute_result",
          "data": {
            "text/plain": [
              "array([[[0.04968385, 0.24860623, 0.42021268, 0.49272662, 0.67437987],\n",
              "        [0.20299358, 0.22194876, 0.6071271 , 0.62312205, 0.82748508],\n",
              "        [0.06544354, 0.10678233, 0.75959796, 0.85898569, 0.88885595]],\n",
              "\n",
              "       [[0.09895899, 0.11278362, 0.27075371, 0.43531504, 0.77776281],\n",
              "        [0.26601424, 0.26890126, 0.40068904, 0.68303285, 0.99240972],\n",
              "        [0.33085648, 0.51487766, 0.56644343, 0.86110494, 0.95120828]]])"
            ]
          },
          "metadata": {},
          "execution_count": 61
        }
      ]
    },
    {
      "cell_type": "code",
      "source": [
        "a[:, :, 2]"
      ],
      "metadata": {
        "colab": {
          "base_uri": "https://localhost:8080/"
        },
        "id": "U_aG8IkWx1IQ",
        "outputId": "efbe81b1-6113-472c-d8be-3159e700ff96"
      },
      "execution_count": 62,
      "outputs": [
        {
          "output_type": "execute_result",
          "data": {
            "text/plain": [
              "array([[0.42021268, 0.6071271 , 0.75959796],\n",
              "       [0.27075371, 0.40068904, 0.56644343]])"
            ]
          },
          "metadata": {},
          "execution_count": 62
        }
      ]
    },
    {
      "cell_type": "code",
      "source": [
        "a = np.linspace(0, 5, 6).astype(int)\n",
        "b = np.linspace(0, 3, 4).astype(int)"
      ],
      "metadata": {
        "id": "vfQFpFzwzJ-7"
      },
      "execution_count": 68,
      "outputs": []
    },
    {
      "cell_type": "code",
      "source": [
        "a"
      ],
      "metadata": {
        "colab": {
          "base_uri": "https://localhost:8080/"
        },
        "id": "LB7oY_Zb01Hr",
        "outputId": "3d10fb2c-08e6-4898-fa78-53e3e1503dc1"
      },
      "execution_count": 69,
      "outputs": [
        {
          "output_type": "execute_result",
          "data": {
            "text/plain": [
              "array([0, 1, 2, 3, 4, 5])"
            ]
          },
          "metadata": {},
          "execution_count": 69
        }
      ]
    },
    {
      "cell_type": "code",
      "source": [
        "b"
      ],
      "metadata": {
        "colab": {
          "base_uri": "https://localhost:8080/"
        },
        "id": "4dQJgNHx1FhU",
        "outputId": "508df2f0-ae33-4583-b48d-a2a92dfd17f0"
      },
      "execution_count": 70,
      "outputs": [
        {
          "output_type": "execute_result",
          "data": {
            "text/plain": [
              "array([0, 1, 2, 3])"
            ]
          },
          "metadata": {},
          "execution_count": 70
        }
      ]
    },
    {
      "cell_type": "code",
      "source": [
        "As, Bs = np.meshgrid(a, b)"
      ],
      "metadata": {
        "id": "I2GTTCrE1GFZ"
      },
      "execution_count": 71,
      "outputs": []
    },
    {
      "cell_type": "code",
      "source": [
        "As"
      ],
      "metadata": {
        "colab": {
          "base_uri": "https://localhost:8080/"
        },
        "id": "Zc7f2M_r1M3r",
        "outputId": "8989a5d9-591e-4be6-f008-f12c9d7b0f9c"
      },
      "execution_count": 72,
      "outputs": [
        {
          "output_type": "execute_result",
          "data": {
            "text/plain": [
              "array([[0, 1, 2, 3, 4, 5],\n",
              "       [0, 1, 2, 3, 4, 5],\n",
              "       [0, 1, 2, 3, 4, 5],\n",
              "       [0, 1, 2, 3, 4, 5]])"
            ]
          },
          "metadata": {},
          "execution_count": 72
        }
      ]
    },
    {
      "cell_type": "code",
      "source": [
        "Bs"
      ],
      "metadata": {
        "colab": {
          "base_uri": "https://localhost:8080/"
        },
        "id": "5ggRbip-2Ddq",
        "outputId": "5b721d83-1411-430b-e3a6-349717908f3e"
      },
      "execution_count": 73,
      "outputs": [
        {
          "output_type": "execute_result",
          "data": {
            "text/plain": [
              "array([[0, 0, 0, 0, 0, 0],\n",
              "       [1, 1, 1, 1, 1, 1],\n",
              "       [2, 2, 2, 2, 2, 2],\n",
              "       [3, 3, 3, 3, 3, 3]])"
            ]
          },
          "metadata": {},
          "execution_count": 73
        }
      ]
    },
    {
      "cell_type": "code",
      "source": [
        "x = np.arange(6)\n",
        "x"
      ],
      "metadata": {
        "colab": {
          "base_uri": "https://localhost:8080/"
        },
        "id": "dPerLvb_2FMA",
        "outputId": "4ec2f795-c8c1-4512-f634-f0c9d9cd6113"
      },
      "execution_count": 74,
      "outputs": [
        {
          "output_type": "execute_result",
          "data": {
            "text/plain": [
              "array([0, 1, 2, 3, 4, 5])"
            ]
          },
          "metadata": {},
          "execution_count": 74
        }
      ]
    },
    {
      "cell_type": "code",
      "source": [
        "x.shape"
      ],
      "metadata": {
        "colab": {
          "base_uri": "https://localhost:8080/"
        },
        "id": "82C1dnratuE_",
        "outputId": "ebfd2392-f4b3-40c1-a507-284203523f1b"
      },
      "execution_count": 76,
      "outputs": [
        {
          "output_type": "execute_result",
          "data": {
            "text/plain": [
              "(6,)"
            ]
          },
          "metadata": {},
          "execution_count": 76
        }
      ]
    },
    {
      "cell_type": "code",
      "source": [
        "x.sum()"
      ],
      "metadata": {
        "colab": {
          "base_uri": "https://localhost:8080/"
        },
        "id": "crZpnh9ptwUA",
        "outputId": "3d7f0d82-076a-4361-f28a-920bf9d18a31"
      },
      "execution_count": 77,
      "outputs": [
        {
          "output_type": "execute_result",
          "data": {
            "text/plain": [
              "15"
            ]
          },
          "metadata": {},
          "execution_count": 77
        }
      ]
    },
    {
      "cell_type": "code",
      "source": [
        "x.sum(axis=0)"
      ],
      "metadata": {
        "colab": {
          "base_uri": "https://localhost:8080/"
        },
        "id": "ojvD0qC5t2n6",
        "outputId": "a4d58f54-aa77-4ad2-f101-b470d0e6dfd1"
      },
      "execution_count": 79,
      "outputs": [
        {
          "output_type": "execute_result",
          "data": {
            "text/plain": [
              "15"
            ]
          },
          "metadata": {},
          "execution_count": 79
        }
      ]
    },
    {
      "cell_type": "code",
      "source": [
        "x.sum(axis=1)"
      ],
      "metadata": {
        "colab": {
          "base_uri": "https://localhost:8080/",
          "height": 283
        },
        "id": "51HCqx3Pt6IQ",
        "outputId": "a4701afc-a5bf-4c1d-f583-d7d0df01d95b"
      },
      "execution_count": 80,
      "outputs": [
        {
          "output_type": "error",
          "ename": "AxisError",
          "evalue": "ignored",
          "traceback": [
            "\u001b[0;31m---------------------------------------------------------------------------\u001b[0m",
            "\u001b[0;31mAxisError\u001b[0m                                 Traceback (most recent call last)",
            "\u001b[0;32m<ipython-input-80-979bceb1e389>\u001b[0m in \u001b[0;36m<module>\u001b[0;34m\u001b[0m\n\u001b[0;32m----> 1\u001b[0;31m \u001b[0mx\u001b[0m\u001b[0;34m.\u001b[0m\u001b[0msum\u001b[0m\u001b[0;34m(\u001b[0m\u001b[0maxis\u001b[0m\u001b[0;34m=\u001b[0m\u001b[0;36m1\u001b[0m\u001b[0;34m)\u001b[0m\u001b[0;34m\u001b[0m\u001b[0;34m\u001b[0m\u001b[0m\n\u001b[0m",
            "\u001b[0;32m/usr/local/lib/python3.8/dist-packages/numpy/core/_methods.py\u001b[0m in \u001b[0;36m_sum\u001b[0;34m(a, axis, dtype, out, keepdims, initial, where)\u001b[0m\n\u001b[1;32m     46\u001b[0m def _sum(a, axis=None, dtype=None, out=None, keepdims=False,\n\u001b[1;32m     47\u001b[0m          initial=_NoValue, where=True):\n\u001b[0;32m---> 48\u001b[0;31m     \u001b[0;32mreturn\u001b[0m \u001b[0mumr_sum\u001b[0m\u001b[0;34m(\u001b[0m\u001b[0ma\u001b[0m\u001b[0;34m,\u001b[0m \u001b[0maxis\u001b[0m\u001b[0;34m,\u001b[0m \u001b[0mdtype\u001b[0m\u001b[0;34m,\u001b[0m \u001b[0mout\u001b[0m\u001b[0;34m,\u001b[0m \u001b[0mkeepdims\u001b[0m\u001b[0;34m,\u001b[0m \u001b[0minitial\u001b[0m\u001b[0;34m,\u001b[0m \u001b[0mwhere\u001b[0m\u001b[0;34m)\u001b[0m\u001b[0;34m\u001b[0m\u001b[0;34m\u001b[0m\u001b[0m\n\u001b[0m\u001b[1;32m     49\u001b[0m \u001b[0;34m\u001b[0m\u001b[0m\n\u001b[1;32m     50\u001b[0m def _prod(a, axis=None, dtype=None, out=None, keepdims=False,\n",
            "\u001b[0;31mAxisError\u001b[0m: axis 1 is out of bounds for array of dimension 1"
          ]
        }
      ]
    },
    {
      "cell_type": "code",
      "source": [
        "y = np.random.rand(5, 1)\n",
        "y"
      ],
      "metadata": {
        "colab": {
          "base_uri": "https://localhost:8080/"
        },
        "id": "Kpt01OmBt-tc",
        "outputId": "89b79bb7-acfd-4bb9-8d2b-899fff55c630"
      },
      "execution_count": 84,
      "outputs": [
        {
          "output_type": "execute_result",
          "data": {
            "text/plain": [
              "array([[0.12445403],\n",
              "       [0.07477884],\n",
              "       [0.69975763],\n",
              "       [0.50155094],\n",
              "       [0.99290962]])"
            ]
          },
          "metadata": {},
          "execution_count": 84
        }
      ]
    },
    {
      "cell_type": "code",
      "source": [
        "y.shape"
      ],
      "metadata": {
        "colab": {
          "base_uri": "https://localhost:8080/"
        },
        "id": "97G6ZORdufXV",
        "outputId": "56a4692e-df25-4cd9-9cc3-f04172a027d1"
      },
      "execution_count": 85,
      "outputs": [
        {
          "output_type": "execute_result",
          "data": {
            "text/plain": [
              "(5, 1)"
            ]
          },
          "metadata": {},
          "execution_count": 85
        }
      ]
    },
    {
      "cell_type": "code",
      "source": [
        "x"
      ],
      "metadata": {
        "colab": {
          "base_uri": "https://localhost:8080/"
        },
        "id": "WeeBL6-GwrDw",
        "outputId": "6539f603-7aed-4291-b26f-84b7b2384e16"
      },
      "execution_count": 86,
      "outputs": [
        {
          "output_type": "execute_result",
          "data": {
            "text/plain": [
              "array([0, 1, 2, 3, 4, 5])"
            ]
          },
          "metadata": {},
          "execution_count": 86
        }
      ]
    },
    {
      "cell_type": "code",
      "source": [
        "x.reshape(2, 3)"
      ],
      "metadata": {
        "colab": {
          "base_uri": "https://localhost:8080/"
        },
        "id": "9nkoNZgz0YD1",
        "outputId": "66b5e312-6189-42ae-c6a5-18190d3fd9e5"
      },
      "execution_count": 87,
      "outputs": [
        {
          "output_type": "execute_result",
          "data": {
            "text/plain": [
              "array([[0, 1, 2],\n",
              "       [3, 4, 5]])"
            ]
          },
          "metadata": {},
          "execution_count": 87
        }
      ]
    },
    {
      "cell_type": "code",
      "source": [
        "x.reshape(-1, 1)"
      ],
      "metadata": {
        "colab": {
          "base_uri": "https://localhost:8080/"
        },
        "id": "yn36APw90apj",
        "outputId": "33a5dec6-8fb7-4872-d41f-413a51988be5"
      },
      "execution_count": 90,
      "outputs": [
        {
          "output_type": "execute_result",
          "data": {
            "text/plain": [
              "array([[0],\n",
              "       [1],\n",
              "       [2],\n",
              "       [3],\n",
              "       [4],\n",
              "       [5]])"
            ]
          },
          "metadata": {},
          "execution_count": 90
        }
      ]
    },
    {
      "cell_type": "code",
      "source": [
        "y"
      ],
      "metadata": {
        "colab": {
          "base_uri": "https://localhost:8080/"
        },
        "id": "f9vdEE7O0deR",
        "outputId": "9e6a40a1-b92a-4450-a8f6-af9ba8fea2e9"
      },
      "execution_count": 91,
      "outputs": [
        {
          "output_type": "execute_result",
          "data": {
            "text/plain": [
              "array([[0.12445403],\n",
              "       [0.07477884],\n",
              "       [0.69975763],\n",
              "       [0.50155094],\n",
              "       [0.99290962]])"
            ]
          },
          "metadata": {},
          "execution_count": 91
        }
      ]
    },
    {
      "cell_type": "code",
      "source": [
        "y.reshape(-1)"
      ],
      "metadata": {
        "colab": {
          "base_uri": "https://localhost:8080/"
        },
        "id": "2b7Dugzl0mWZ",
        "outputId": "788eaf6d-3aca-4a87-bdff-ddcfc8b12746"
      },
      "execution_count": 92,
      "outputs": [
        {
          "output_type": "execute_result",
          "data": {
            "text/plain": [
              "array([0.12445403, 0.07477884, 0.69975763, 0.50155094, 0.99290962])"
            ]
          },
          "metadata": {},
          "execution_count": 92
        }
      ]
    },
    {
      "cell_type": "code",
      "source": [
        "y.reshape(-1, 1)"
      ],
      "metadata": {
        "colab": {
          "base_uri": "https://localhost:8080/"
        },
        "id": "wx_OYdcu0o5G",
        "outputId": "f0d60d9b-c89b-4f16-a9e1-fbf8bc5edc56"
      },
      "execution_count": 93,
      "outputs": [
        {
          "output_type": "execute_result",
          "data": {
            "text/plain": [
              "array([[0.12445403],\n",
              "       [0.07477884],\n",
              "       [0.69975763],\n",
              "       [0.50155094],\n",
              "       [0.99290962]])"
            ]
          },
          "metadata": {},
          "execution_count": 93
        }
      ]
    },
    {
      "cell_type": "code",
      "source": [
        "y.reshape(-1, 1, 1).shape"
      ],
      "metadata": {
        "colab": {
          "base_uri": "https://localhost:8080/"
        },
        "id": "BMDGlgSg0so0",
        "outputId": "a4a8f08f-3c73-44f3-b783-31d3f9caa6aa"
      },
      "execution_count": 96,
      "outputs": [
        {
          "output_type": "execute_result",
          "data": {
            "text/plain": [
              "(5, 1, 1)"
            ]
          },
          "metadata": {},
          "execution_count": 96
        }
      ]
    },
    {
      "cell_type": "code",
      "source": [],
      "metadata": {
        "id": "Nqha-8Be0xIg"
      },
      "execution_count": null,
      "outputs": []
    }
  ]
}